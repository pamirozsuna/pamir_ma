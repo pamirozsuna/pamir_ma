{
 "cells": [
  {
   "cell_type": "markdown",
   "metadata": {},
   "source": [
    "# The Wilson-Cowan model\n",
    "\n",
    "In this notebook, the basic use of the implementation of the Wilson-Cowan (`wc`) model is presented. \n",
    "\n",
    "In the `wc` model, the activity of a particular brain region is defined by a coupled system of excitatory (E) and inhibitory (I) neuronal populations with the mean firing rates of the E and I pools being the dynamic variables, as first described by Wilson and Cowan in 1972 ( H.R. Wilson and J.D. Cowan. *Excitatory and inhibitory interactions in localized populations of model neurons*. Biophys. J., 12:1–24 (1972)) "
   ]
  },
  {
   "cell_type": "code",
   "execution_count": 9,
   "metadata": {},
   "outputs": [],
   "source": [
    "import matplotlib.pyplot as plt\n",
    "import numpy as np\n",
    "import glob\n",
    "import scipy\n",
    "import neurolib.utils.devutils as du\n",
    "\n",
    "from neurolib.models.wc import WCModel\n",
    "\n",
    "import neurolib.utils.loadData as ld\n",
    "import neurolib.utils.functions as func\n",
    "from neurolib.utils.loadData import Dataset\n",
    "from scipy.io import loadmat\n",
    "from neurolib.utils.loadData import filterSubcortical\n",
    "\n",
    "# a nice color map\n",
    "plt.rcParams['image.cmap'] = 'plasma'"
   ]
  },
  {
   "cell_type": "code",
   "execution_count": 10,
   "metadata": {},
   "outputs": [],
   "source": [
    "data_path = \"/Users/pamirozsuna/Desktop/pamir_ma/SCZ-FC-modelling\""
   ]
  },
  {
   "cell_type": "code",
   "execution_count": 11,
   "metadata": {},
   "outputs": [],
   "source": [
    "def averageMat(Mat):\n",
    "    avMat = np.zeros((94,94))\n",
    "    for i in range(len(Mat)):\n",
    "        avMat = avMat + Mat[i]\n",
    "    avMat = avMat/len(Mat)\n",
    "    return avMat"
   ]
  },
  {
   "cell_type": "code",
   "execution_count": 12,
   "metadata": {
    "scrolled": true
   },
   "outputs": [],
   "source": [
    "C_data = np.load(data_path+\"/AvgCmatrixSCZ.npy\")\n",
    "D_data = np.load(data_path+\"/AvgDmatrixSCZ.npy\")"
   ]
  },
  {
   "cell_type": "code",
   "execution_count": 13,
   "metadata": {},
   "outputs": [],
   "source": [
    "Cmat_tmp = averageMat(C_data)\n",
    "Dmat_tmp = averageMat(D_data)"
   ]
  },
  {
   "cell_type": "code",
   "execution_count": 14,
   "metadata": {},
   "outputs": [],
   "source": [
    "Cmat = filterSubcortical(Cmat_tmp)\n",
    "Dmat = filterSubcortical(Dmat_tmp)"
   ]
  },
  {
   "cell_type": "code",
   "execution_count": 15,
   "metadata": {},
   "outputs": [],
   "source": [
    "FC_data = np.load(data_path+\"/AvgFmatrixSCZ.npy\")\n",
    "timeseries = np.load(data_path+\"/AvgTmatrixSCZ.npy\")"
   ]
  },
  {
   "cell_type": "code",
   "execution_count": 16,
   "metadata": {},
   "outputs": [],
   "source": [
    "FC_tmp = averageMat(FC_data)\n",
    "FCs = filterSubcortical(FC_tmp)"
   ]
  },
  {
   "cell_type": "code",
   "execution_count": 17,
   "metadata": {},
   "outputs": [
    {
     "name": "stdout",
     "output_type": "stream",
     "text": [
      "0\n",
      "0.0\n",
      "0.45780667281051535\n",
      "1\n",
      "0.04081632653061224\n",
      "0.01604277917901904\n",
      "2\n",
      "0.08163265306122448\n",
      "0.029298192281174675\n",
      "3\n",
      "0.12244897959183673\n",
      "0.023960040273114557\n",
      "4\n",
      "0.16326530612244897\n",
      "0.021383790989089456\n",
      "5\n",
      "0.2040816326530612\n",
      "0.015964508302843638\n",
      "6\n",
      "0.24489795918367346\n",
      "0.01960974527425139\n",
      "7\n",
      "0.2857142857142857\n",
      "0.005250873287698335\n",
      "8\n",
      "0.32653061224489793\n",
      "0.006352841375561027\n",
      "9\n",
      "0.36734693877551017\n",
      "0.007576720070422535\n",
      "10\n",
      "0.4081632653061224\n",
      "0.011083893408079764\n",
      "11\n",
      "0.44897959183673464\n",
      "0.01114959212922461\n",
      "12\n",
      "0.4897959183673469\n",
      "0.029139787765295848\n",
      "13\n",
      "0.5306122448979591\n",
      "0.01061862656586577\n",
      "14\n",
      "0.5714285714285714\n",
      "0.017157915926730816\n",
      "15\n",
      "0.6122448979591836\n",
      "0.021703931355835503\n",
      "16\n",
      "0.6530612244897959\n",
      "0.01001119666701838\n",
      "17\n",
      "0.6938775510204082\n",
      "0.013647883511671904\n",
      "18\n",
      "0.7346938775510203\n",
      "0.019326503584295326\n",
      "19\n",
      "0.7755102040816326\n",
      "0.00958553080621367\n",
      "20\n",
      "0.8163265306122448\n",
      "0.025631910640004273\n",
      "21\n",
      "0.8571428571428571\n",
      "0.01578297618910047\n",
      "22\n",
      "0.8979591836734693\n",
      "0.013119434316543978\n",
      "23\n",
      "0.9387755102040816\n",
      "0.013322293568513818\n",
      "24\n",
      "0.9795918367346939\n",
      "0.0054137455445688746\n",
      "25\n",
      "1.0204081632653061\n",
      "0.012607147277782244\n",
      "26\n",
      "1.0612244897959182\n",
      "0.0037015822083383354\n",
      "27\n",
      "1.1020408163265305\n",
      "0.02111341214397257\n",
      "28\n",
      "1.1428571428571428\n",
      "0.020883695905747953\n",
      "29\n",
      "1.183673469387755\n",
      "0.01996468099564051\n",
      "30\n",
      "1.2244897959183672\n",
      "0.01693646422457318\n",
      "31\n",
      "1.2653061224489794\n",
      "0.010204328796322621\n",
      "32\n",
      "1.3061224489795917\n",
      "0.0114669035522627\n",
      "33\n",
      "1.346938775510204\n",
      "0.008090527532916357\n",
      "34\n",
      "1.3877551020408163\n",
      "0.004531106629057132\n",
      "35\n",
      "1.4285714285714284\n",
      "0.012116919181344445\n",
      "36\n",
      "1.4693877551020407\n",
      "0.01998356192744372\n",
      "37\n",
      "1.510204081632653\n",
      "0.011948836982544056\n",
      "38\n",
      "1.5510204081632653\n",
      "0.006079868581354684\n",
      "39\n",
      "1.5918367346938773\n",
      "0.006082251594994292\n",
      "40\n",
      "1.6326530612244896\n",
      "0.014301203243320473\n",
      "41\n",
      "1.673469387755102\n",
      "0.014927484240775803\n",
      "42\n",
      "1.7142857142857142\n",
      "0.008125185627662639\n",
      "43\n",
      "1.7551020408163265\n",
      "0.009330179664911476\n",
      "44\n",
      "1.7959183673469385\n",
      "0.01984125228579211\n",
      "45\n",
      "1.8367346938775508\n",
      "0.007424823334129282\n",
      "46\n",
      "1.8775510204081631\n",
      "0.018424704502528467\n",
      "47\n",
      "1.9183673469387754\n",
      "0.008002005065396063\n",
      "48\n",
      "1.9591836734693877\n",
      "0.009278776646308919\n",
      "49\n",
      "2.0\n",
      "0.010492342289769927\n"
     ]
    }
   ],
   "source": [
    "#wc.params['exc_ext'] = 0.45\n",
    "#wc.params['c_excinh'] = 10.1\n",
    "#wc.params['c_inhexc'] = 9.55\n",
    "#wc.params['c_inhinh'] = 0\n",
    "#wc.params['K_gl'] = 1.84\n",
    "#wc.params['sigma_ou'] = 4.28e-05\n",
    "\n",
    "#wc.params['exc_ext'] = 0.45\n",
    "#wc.params['c_excinh'] = 10.1\n",
    "#wc.params['c_inhexc'] = 9.95\n",
    "#wc.params['c_inhinh'] = 0\n",
    "#wc.params['K_gl'] = 1.84\n",
    "#wc.params['sigma_ou'] = 4.28e-05\n",
    "total_gbc_model = []\n",
    "total_scores_model = []\n",
    "i_list = []\n",
    "\n",
    "input = np.linspace(0, 2, 50) \n",
    "\n",
    "for i in range(len(input)): \n",
    "    wc = WCModel(Cmat = Cmat, Dmat = Dmat)\n",
    "    wc.params['duration'] = 40*1000\n",
    "    print(i)\n",
    "    print(input[i])\n",
    "    wc.params['exc_ext'] = 0.45\n",
    "    wc.params['c_excinh'] = 10.33\n",
    "    wc.params['c_inhexc'] = 9.67\n",
    "    wc.params['c_inhinh'] = 0\n",
    "    wc.params['K_gl'] = 1.84\n",
    "    wc.params['sigma_ou'] = input[i]\n",
    "    wc.run(bold = True)\n",
    "    gbc_model = np.mean(func.fc(wc.BOLD.BOLD[:, wc.BOLD.t_BOLD>10000]))\n",
    "    total_gbc_model.append(gbc_model)\n",
    "    print(gbc_model)\n",
    "    scores = [func.matrix_correlation(func.fc(wc.BOLD.BOLD[:, wc.BOLD.t_BOLD>10000]), FCs)]\n",
    "    total_scores_model.append(np.mean(scores))\n",
    "    i_list.append(i)"
   ]
  },
  {
   "cell_type": "code",
   "execution_count": 18,
   "metadata": {},
   "outputs": [
    {
     "name": "stdout",
     "output_type": "stream",
     "text": [
      "[0.45780667281051535, 0.01604277917901904, 0.029298192281174675, 0.023960040273114557, 0.021383790989089456, 0.015964508302843638, 0.01960974527425139, 0.005250873287698335, 0.006352841375561027, 0.007576720070422535, 0.011083893408079764, 0.01114959212922461, 0.029139787765295848, 0.01061862656586577, 0.017157915926730816, 0.021703931355835503, 0.01001119666701838, 0.013647883511671904, 0.019326503584295326, 0.00958553080621367, 0.025631910640004273, 0.01578297618910047, 0.013119434316543978, 0.013322293568513818, 0.0054137455445688746, 0.012607147277782244, 0.0037015822083383354, 0.02111341214397257, 0.020883695905747953, 0.01996468099564051, 0.01693646422457318, 0.010204328796322621, 0.0114669035522627, 0.008090527532916357, 0.004531106629057132, 0.012116919181344445, 0.01998356192744372, 0.011948836982544056, 0.006079868581354684, 0.006082251594994292, 0.014301203243320473, 0.014927484240775803, 0.008125185627662639, 0.009330179664911476, 0.01984125228579211, 0.007424823334129282, 0.018424704502528467, 0.008002005065396063, 0.009278776646308919, 0.010492342289769927]\n",
      "[0.2035573984101813, 0.020300542388293787, -0.003794527518561219, -0.012028538982516214, 0.02735792166491997, 0.021467402292603542, -0.017669136119400325, -0.008476383996354815, -0.000998978697810365, 0.024498880944584914, 0.0034241068044693914, 0.05162777874027694, -0.023011002359587984, 0.003896678869967924, -0.023473212957095393, 0.0007399648101860115, 0.009141916968106773, -0.010031654946783871, 0.011082052754571373, 0.0038385956759782974, 0.003383361154907901, 0.008938190183863612, -0.0014283945763280505, -0.029240199245035188, -0.015407656174381777, -0.00017717982395235688, 0.013557842089496296, -0.03095645392375203, 0.0002661405078424186, -0.0012879969982351452, -0.02026105608165672, -0.005966567603729477, -0.0025862826370054897, 0.0013315155484878425, 0.01528093223272139, -0.0063826528242429586, -0.011770838812015724, -0.007681272578856634, 0.010953769471230564, 0.0010731335351714404, -0.023237114629576276, -0.018016555756942217, -0.012134956520904246, -0.0016580976614606997, 0.017917712460927916, 0.01394024776130332, -0.013647416222070333, -0.029250649533349053, 0.0150731841473418, -0.005821434793353296]\n"
     ]
    }
   ],
   "source": [
    "print(total_gbc_model)\n",
    "print(total_scores_model)"
   ]
  },
  {
   "cell_type": "code",
   "execution_count": 19,
   "metadata": {},
   "outputs": [
    {
     "name": "stdout",
     "output_type": "stream",
     "text": [
      "[0.         0.04081633 0.08163265 0.12244898 0.16326531 0.20408163\n",
      " 0.24489796 0.28571429 0.32653061 0.36734694 0.40816327 0.44897959\n",
      " 0.48979592 0.53061224 0.57142857 0.6122449  0.65306122 0.69387755\n",
      " 0.73469388 0.7755102  0.81632653 0.85714286 0.89795918 0.93877551\n",
      " 0.97959184 1.02040816 1.06122449 1.10204082 1.14285714 1.18367347\n",
      " 1.2244898  1.26530612 1.30612245 1.34693878 1.3877551  1.42857143\n",
      " 1.46938776 1.51020408 1.55102041 1.59183673 1.63265306 1.67346939\n",
      " 1.71428571 1.75510204 1.79591837 1.83673469 1.87755102 1.91836735\n",
      " 1.95918367 2.        ]\n"
     ]
    }
   ],
   "source": [
    "print(input)"
   ]
  },
  {
   "cell_type": "code",
   "execution_count": 12,
   "metadata": {},
   "outputs": [
    {
     "data": {
      "image/png": "[encoded data removed]",
      "text/plain": [
       "<Figure size 432x288 with 1 Axes>"
      ]
     },
     "metadata": {
      "needs_background": "light"
     },
     "output_type": "display_data"
    }
   ],
   "source": [
    "plt.plot(input, total_gbc_model)\n",
    "plt.show()"
   ]
  },
  {
   "cell_type": "code",
   "execution_count": null,
   "metadata": {},
   "outputs": [],
   "source": []
  }
 ],
 "metadata": {
  "kernelspec": {
   "display_name": "Python 3 (ipykernel)",
   "language": "python",
   "name": "python3"
  },
  "language_info": {
   "codemirror_mode": {
    "name": "ipython",
    "version": 3
   },
   "file_extension": ".py",
   "mimetype": "text/x-python",
   "name": "python",
   "nbconvert_exporter": "python",
   "pygments_lexer": "ipython3",
   "version": "3.7.4"
  }
 },
 "nbformat": 4,
 "nbformat_minor": 4
}
