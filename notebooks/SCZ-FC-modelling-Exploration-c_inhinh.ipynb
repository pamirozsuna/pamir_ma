{
 "cells": [
  {
   "cell_type": "markdown",
   "metadata": {},
   "source": [
    "# The Wilson-Cowan model\n",
    "\n",
    "In this notebook, the basic use of the implementation of the Wilson-Cowan (`wc`) model is presented. \n",
    "\n",
    "In the `wc` model, the activity of a particular brain region is defined by a coupled system of excitatory (E) and inhibitory (I) neuronal populations with the mean firing rates of the E and I pools being the dynamic variables, as first described by Wilson and Cowan in 1972 ( H.R. Wilson and J.D. Cowan. *Excitatory and inhibitory interactions in localized populations of model neurons*. Biophys. J., 12:1–24 (1972)) "
   ]
  },
  {
   "cell_type": "code",
   "execution_count": 1,
   "metadata": {},
   "outputs": [],
   "source": [
    "import matplotlib.pyplot as plt\n",
    "import numpy as np\n",
    "import glob\n",
    "import scipy\n",
    "import neurolib.utils.devutils as du\n",
    "\n",
    "from neurolib.models.wc import WCModel\n",
    "\n",
    "import neurolib.utils.loadData as ld\n",
    "import neurolib.utils.functions as func\n",
    "from neurolib.utils.loadData import Dataset\n",
    "from scipy.io import loadmat\n",
    "from neurolib.utils.loadData import filterSubcortical\n",
    "\n",
    "# a nice color map\n",
    "plt.rcParams['image.cmap'] = 'plasma'"
   ]
  },
  {
   "cell_type": "code",
   "execution_count": 2,
   "metadata": {},
   "outputs": [],
   "source": [
    "data_path = \"/Users/pamirozsuna/Desktop/pamir_ma/SCZ-FC-modelling\""
   ]
  },
  {
   "cell_type": "code",
   "execution_count": 3,
   "metadata": {},
   "outputs": [],
   "source": [
    "def averageMat(Mat):\n",
    "    avMat = np.zeros((94,94))\n",
    "    for i in range(len(Mat)):\n",
    "        avMat = avMat + Mat[i]\n",
    "    avMat = avMat/len(Mat)\n",
    "    return avMat"
   ]
  },
  {
   "cell_type": "code",
   "execution_count": 4,
   "metadata": {
    "scrolled": true
   },
   "outputs": [],
   "source": [
    "C_data = np.load(data_path+\"/AvgCmatrixSCZ.npy\")\n",
    "D_data = np.load(data_path+\"/AvgDmatrixSCZ.npy\")"
   ]
  },
  {
   "cell_type": "code",
   "execution_count": 5,
   "metadata": {},
   "outputs": [],
   "source": [
    "Cmat_tmp = averageMat(C_data)\n",
    "Dmat_tmp = averageMat(D_data)"
   ]
  },
  {
   "cell_type": "code",
   "execution_count": 6,
   "metadata": {},
   "outputs": [],
   "source": [
    "Cmat = filterSubcortical(Cmat_tmp)\n",
    "Dmat = filterSubcortical(Dmat_tmp)"
   ]
  },
  {
   "cell_type": "code",
   "execution_count": 7,
   "metadata": {},
   "outputs": [],
   "source": [
    "FC_data = np.load(data_path+\"/AvgFmatrixSCZ.npy\")\n",
    "timeseries = np.load(data_path+\"/AvgTmatrixSCZ.npy\")"
   ]
  },
  {
   "cell_type": "code",
   "execution_count": 8,
   "metadata": {},
   "outputs": [],
   "source": [
    "FC_tmp = averageMat(FC_data)\n",
    "FCs = filterSubcortical(FC_tmp)"
   ]
  },
  {
   "cell_type": "code",
   "execution_count": 9,
   "metadata": {},
   "outputs": [
    {
     "name": "stdout",
     "output_type": "stream",
     "text": [
      "0\n",
      "0.0\n",
      "0.6110798021057731\n",
      "1\n",
      "0.10204081632653061\n",
      "0.5844751119550621\n",
      "2\n",
      "0.20408163265306123\n",
      "0.7255344179600083\n",
      "3\n",
      "0.30612244897959184\n",
      "0.6853401896691438\n",
      "4\n",
      "0.40816326530612246\n",
      "0.5118583285284583\n",
      "5\n",
      "0.5102040816326531\n",
      "0.5299937528023606\n",
      "6\n",
      "0.6122448979591837\n",
      "0.3648297153268759\n",
      "7\n",
      "0.7142857142857143\n",
      "0.29284847681148\n",
      "8\n",
      "0.8163265306122449\n",
      "0.5039645607695147\n",
      "9\n",
      "0.9183673469387755\n",
      "0.5135406099224888\n",
      "10\n",
      "1.0204081632653061\n",
      "0.649376561399352\n",
      "11\n",
      "1.1224489795918369\n",
      "0.7720964416518757\n",
      "12\n",
      "1.2244897959183674\n",
      "0.7376912094803258\n",
      "13\n",
      "1.3265306122448979\n",
      "0.698500704177288\n",
      "14\n",
      "1.4285714285714286\n",
      "0.6437048683809178\n",
      "15\n",
      "1.5306122448979593\n",
      "0.3938442108227433\n",
      "16\n",
      "1.6326530612244898\n",
      "0.3011835856228642\n",
      "17\n",
      "1.7346938775510203\n",
      "0.2385870932105395\n",
      "18\n",
      "1.836734693877551\n",
      "0.33383145120558516\n",
      "19\n",
      "1.9387755102040818\n",
      "0.3167346544132467\n",
      "20\n",
      "2.0408163265306123\n",
      "0.3092827241937463\n",
      "21\n",
      "2.142857142857143\n",
      "0.3941264696105388\n",
      "22\n",
      "2.2448979591836737\n",
      "0.852791546397759\n",
      "23\n",
      "2.3469387755102042\n",
      "0.945528522331898\n",
      "24\n",
      "2.4489795918367347\n",
      "0.9999753866215698\n",
      "25\n",
      "2.5510204081632653\n",
      "0.9999874564221148\n",
      "26\n",
      "2.6530612244897958\n",
      "0.9999777825297772\n",
      "27\n",
      "2.7551020408163267\n",
      "0.9999770216978524\n",
      "28\n",
      "2.857142857142857\n",
      "0.9999718455936077\n",
      "29\n",
      "2.9591836734693877\n",
      "0.9999736018246362\n",
      "30\n",
      "3.0612244897959187\n",
      "0.9999676170402851\n",
      "31\n",
      "3.163265306122449\n",
      "0.999974112971428\n",
      "32\n",
      "3.2653061224489797\n",
      "0.9999765766260543\n",
      "33\n",
      "3.36734693877551\n",
      "0.999976596531718\n",
      "34\n",
      "3.4693877551020407\n",
      "0.9999768658138302\n",
      "35\n",
      "3.5714285714285716\n",
      "0.9999702106514045\n",
      "36\n",
      "3.673469387755102\n",
      "0.9999724791048142\n",
      "37\n",
      "3.7755102040816326\n",
      "0.9999864991905306\n",
      "38\n",
      "3.8775510204081636\n",
      "0.9999718288585586\n",
      "39\n",
      "3.979591836734694\n",
      "0.9999831256796017\n",
      "40\n",
      "4.081632653061225\n",
      "0.9999863533773599\n",
      "41\n",
      "4.183673469387755\n",
      "0.9999827587757381\n",
      "42\n",
      "4.285714285714286\n",
      "0.9999777770609363\n",
      "43\n",
      "4.387755102040816\n",
      "0.9999803273023119\n",
      "44\n",
      "4.4897959183673475\n",
      "0.9999860012079489\n",
      "45\n",
      "4.591836734693878\n",
      "0.9999845783119422\n",
      "46\n",
      "4.6938775510204085\n",
      "0.9999775822714504\n",
      "47\n",
      "4.795918367346939\n",
      "0.9999836472545519\n",
      "48\n",
      "4.8979591836734695\n",
      "0.9999821726474923\n",
      "49\n",
      "5.0\n",
      "0.9999818699179925\n"
     ]
    }
   ],
   "source": [
    "#wc.params['exc_ext'] = 0.45\n",
    "#wc.params['c_excinh'] = 10.1\n",
    "#wc.params['c_inhexc'] = 9.55\n",
    "#wc.params['c_inhinh'] = 0\n",
    "#wc.params['K_gl'] = 1.84\n",
    "#wc.params['sigma_ou'] = 4.28e-05\n",
    "\n",
    "#wc.params['exc_ext'] = 0.45\n",
    "#wc.params['c_excinh'] = 10.1\n",
    "#wc.params['c_inhexc'] = 9.95\n",
    "#wc.params['c_inhinh'] = 0\n",
    "#wc.params['K_gl'] = 1.84\n",
    "#wc.params['sigma_ou'] = 4.28e-05\n",
    "total_gbc_model = []\n",
    "total_scores_model = []\n",
    "i_list = []\n",
    "\n",
    "input = np.linspace(0, 5, 50) \n",
    "\n",
    "for i in range(len(input)): \n",
    "    wc = WCModel(Cmat = Cmat, Dmat = Dmat)\n",
    "    wc.params['duration'] = 40*1000\n",
    "    print(i)\n",
    "    print(input[i])\n",
    "    wc.params['exc_ext'] = 0.45\n",
    "    wc.params['c_excinh'] = 10.33\n",
    "    wc.params['c_inhexc'] = 9.67\n",
    "    wc.params['c_inhinh'] = input[i]\n",
    "    wc.params['K_gl'] = 1.84\n",
    "    wc.params['sigma_ou'] = 4.28e-05\n",
    "    wc.run(bold = True)\n",
    "    gbc_model = np.mean(func.fc(wc.BOLD.BOLD[:, wc.BOLD.t_BOLD>10000]))\n",
    "    total_gbc_model.append(gbc_model)\n",
    "    print(gbc_model)\n",
    "    scores = [func.matrix_correlation(func.fc(wc.BOLD.BOLD[:, wc.BOLD.t_BOLD>10000]), FCs)]\n",
    "    total_scores_model.append(np.mean(scores))\n",
    "    i_list.append(i)"
   ]
  },
  {
   "cell_type": "code",
   "execution_count": 10,
   "metadata": {},
   "outputs": [
    {
     "name": "stdout",
     "output_type": "stream",
     "text": [
      "[0.6110798021057731, 0.5844751119550621, 0.7255344179600083, 0.6853401896691438, 0.5118583285284583, 0.5299937528023606, 0.3648297153268759, 0.29284847681148, 0.5039645607695147, 0.5135406099224888, 0.649376561399352, 0.7720964416518757, 0.7376912094803258, 0.698500704177288, 0.6437048683809178, 0.3938442108227433, 0.3011835856228642, 0.2385870932105395, 0.33383145120558516, 0.3167346544132467, 0.3092827241937463, 0.3941264696105388, 0.852791546397759, 0.945528522331898, 0.9999753866215698, 0.9999874564221148, 0.9999777825297772, 0.9999770216978524, 0.9999718455936077, 0.9999736018246362, 0.9999676170402851, 0.999974112971428, 0.9999765766260543, 0.999976596531718, 0.9999768658138302, 0.9999702106514045, 0.9999724791048142, 0.9999864991905306, 0.9999718288585586, 0.9999831256796017, 0.9999863533773599, 0.9999827587757381, 0.9999777770609363, 0.9999803273023119, 0.9999860012079489, 0.9999845783119422, 0.9999775822714504, 0.9999836472545519, 0.9999821726474923, 0.9999818699179925]\n",
      "[0.1464855649099662, 0.14062084590181867, 0.14937890711980076, 0.14916617670556326, 0.12389085443812034, 0.18842812753622964, 0.19826102078942967, 0.16425400746791444, 0.14750438030859328, 0.016244590734398788, 0.011871989966575425, -0.03976287583998873, -0.04346388264660741, -0.04512995092634881, -0.02842588673067423, -0.006207164423540987, -0.014687418076330816, 0.0786900870255557, 0.08612654742969073, 0.09038090219538898, 0.15442575629798752, 0.10535159625776758, 0.02943420778247719, 0.015579352304610935, 0.10396363055735715, 0.08946905883882883, 0.06879782472892883, 0.0987605127789001, 0.07650448754493089, 0.10141539754514066, 0.03436287383677642, 0.350596834721205, 0.11275752304057839, 0.137504760234347, 0.0644115783604291, 0.08954063988402755, 0.11550976059551117, 0.044128392283222476, 0.04350049918600926, 0.14638125176252043, 0.07843259044079229, 0.11161051984304622, 0.05819028765347554, 0.11089728288796234, 0.14833017219753739, 0.004280916583858168, 0.01425054762135547, 0.06887783729656372, 0.06380556905602686, 0.05575779929059699]\n"
     ]
    }
   ],
   "source": [
    "print(total_gbc_model)\n",
    "print(total_scores_model)"
   ]
  },
  {
   "cell_type": "code",
   "execution_count": 11,
   "metadata": {},
   "outputs": [
    {
     "name": "stdout",
     "output_type": "stream",
     "text": [
      "[0.         0.10204082 0.20408163 0.30612245 0.40816327 0.51020408\n",
      " 0.6122449  0.71428571 0.81632653 0.91836735 1.02040816 1.12244898\n",
      " 1.2244898  1.32653061 1.42857143 1.53061224 1.63265306 1.73469388\n",
      " 1.83673469 1.93877551 2.04081633 2.14285714 2.24489796 2.34693878\n",
      " 2.44897959 2.55102041 2.65306122 2.75510204 2.85714286 2.95918367\n",
      " 3.06122449 3.16326531 3.26530612 3.36734694 3.46938776 3.57142857\n",
      " 3.67346939 3.7755102  3.87755102 3.97959184 4.08163265 4.18367347\n",
      " 4.28571429 4.3877551  4.48979592 4.59183673 4.69387755 4.79591837\n",
      " 4.89795918 5.        ]\n"
     ]
    }
   ],
   "source": [
    "print(input)"
   ]
  },
  {
   "cell_type": "code",
   "execution_count": 12,
   "metadata": {},
   "outputs": [
    {
     "data": {
      "image/png": "[encoded data removed]",
      "text/plain": [
       "<Figure size 432x288 with 1 Axes>"
      ]
     },
     "metadata": {
      "needs_background": "light"
     },
     "output_type": "display_data"
    }
   ],
   "source": [
    "plt.plot(input, total_gbc_model)\n",
    "plt.show()"
   ]
  },
  {
   "cell_type": "code",
   "execution_count": null,
   "metadata": {},
   "outputs": [],
   "source": []
  }
 ],
 "metadata": {
  "kernelspec": {
   "display_name": "Python 3 (ipykernel)",
   "language": "python",
   "name": "python3"
  },
  "language_info": {
   "codemirror_mode": {
    "name": "ipython",
    "version": 3
   },
   "file_extension": ".py",
   "mimetype": "text/x-python",
   "name": "python",
   "nbconvert_exporter": "python",
   "pygments_lexer": "ipython3",
   "version": "3.7.4"
  }
 },
 "nbformat": 4,
 "nbformat_minor": 4
}
