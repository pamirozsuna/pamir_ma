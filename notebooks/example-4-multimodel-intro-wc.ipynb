{
 "cells": [
  {
   "cell_type": "markdown",
   "metadata": {},
   "source": [
    "# `MultiModel` framework\n",
    "\n",
    "Here we showcase the `MultiModel` framework, a standalone framework within `neurolib` to create and simulate heterogeneous brain models. By heterogeneous, we mean that a brain network may consist of nodes with totally different dynamics coupled by a single variable. Imagine having a population model for the thalamus, a different model for the hippocampus, and a different model for the cortex. Of course, the parameters and the model dynamics, and the equations would be completely different. This is all possible and even relatively easy in `MultiModel`.\n",
    "\n",
    "## Implemented models\n",
    "To facilitate your heterogeneous experiments, the `MultiModel` comes with few population models predefined for you. We can mix these into a brain network in many ways. We provide:\n",
    "\n",
    "* `aln`: the adaptive linear-nonlinear population model, it is a mean-field approximation of delay-coupled network of excitatory and inhibitory adaptive exponential integrate-and-fire neurons (AdEx)\n",
    "* `fitzhugh_nagumo`: the FitzHugh-Nagumo model, a two-dimensional slow-fast system, is a simplified version of the famous 4D Hodgkin–Huxley model\n",
    "* `hopf`: the Hopf model (sometimes called a Stuart-Landau oscillator) is a 1D nonlinear model and serves as a normal form of Hopf bifurcation in dynamical systems\n",
    "* `thalamus`: a conductance-based population rate model of the thalamus, it is a Jansen-Rit like population model with current-based voltage evolution, includes adaptation (*K*-leak), calcium, and rectifying currents\n",
    "* `wilson_cowan`: the Wilson-Cowan neuronal model is a simple model of interacting interconnected neurons of excitatory and inhibitory subtypes\n",
    "* `wong_wang`: a Wong-Wang model, a model approximating a biophysically-based cortical network model. Our implementation comes in two flavors:\n",
    "    * original Wong-Wang model with excitatory and inhibitory subtypes\n",
    "    * reduced Wong-Wang model with simpler dynamics and no EXC/INH distinction\n",
    "    \n",
    "Moreover, the `MultiModel` framework is built in such a way that creating and connecting new models (e.g., Jansen-Rit) is easy and intuitive. An example of how to make a brand new model implementation in `MultiModel` is provided in the following example notebook (`example-4.1-create-new-model.ipynb`).\n",
    "\n",
    "## Modeling hierarchy\n",
    "The `MultiModel` relies on the modeling hierarchy, which is typically implicit in whole-brain modeling. This hierarchy has three levels:\n",
    "* `NeuralMass`: represents a single neural population (typically excitatory, inhibitory, or without a subtype) and is defined by a set of parameters and (possibly delayed) (possibly stochastic) differential equations\n",
    "* `Node`: represents a single brain node, and it is a set of connected neural masses (so, e.g., a single Wilson-Cowan node consists of one excitatory and one inhibitory Wilson-Cowan `NeuralMass`)\n",
    "* `Network`: represents a brain network, and it is a set of connected nodes (can be any type, as long as the coupling variables are the same)\n",
    "\n",
    "Although the magic happens at the level of `NeuralMass` (by magic, we mean the dynamics), users can only simulate (integrate) a `Node` or a `Network`. In other words, even for models without excitatory/inhibitory subtyping (e.g., Hopf or FitzHugh-Nagumo), we create a `Node` consisting of one `NeuralMass`. In the case of, e.g., Wilson-Cowan, ALN, or original Wong-Wang model, the `Node` consists of one excitatory and one inhibitory mass. More info on the modeling hierarchy and how it actually works is provided in the following example notebook (`example-4.1-create-new-model.ipynb`), where we need to subclass the base classes for this hierarchy to build a new model.\n",
    "\n",
    "## Basic usage in `neurolib`\n",
    "(In the following we expect the reader to be mildly familiar with how `neurolib` works, e.g. how to run a model, how to change it parameters, and how to get model results)"
   ]
  },
  {
   "cell_type": "code",
   "execution_count": 1,
   "metadata": {},
   "outputs": [],
   "source": [
    "# change to the root directory of the project\n",
    "import os\n",
    "if os.getcwd().split(\"/\")[-1] == \"examples\":\n",
    "    os.chdir('..')\n",
    "\n",
    "# import stuff\n",
    "\n",
    "# try:\n",
    "import matplotlib.pyplot as plt\n",
    "import numpy as np\n",
    "from IPython.display import display\n",
    "import neurolib.utils.functions as func\n",
    "\n",
    "\n",
    "from neurolib.models.multimodel import WilsonCowanNetwork, WilsonCowanNode, MultiModel\n",
    "\n",
    "# except ImportError:\n",
    "#     import sys\n",
    "#     !{sys.executable} -m pip install matplotlib\n",
    "#     import matplotlib.pyplot as plt"
   ]
  },
  {
   "cell_type": "markdown",
   "metadata": {},
   "source": [
    "## Simulating the node"
   ]
  },
  {
   "cell_type": "code",
   "execution_count": 2,
   "metadata": {},
   "outputs": [
    {
     "name": "stderr",
     "output_type": "stream",
     "text": [
      "/Users/pamirozsuna/opt/anaconda3/lib/python3.7/site-packages/jitcdde/_jitcdde.py:1492: UserWarning: Your input past does not begin at t=0 but at t=1.0. Values before the beginning of the past will be extrapolated. You very likely do not want this.\n",
      "  warn(f\"Your input past does not begin at t=0 but at t={input[0].time}. Values before the beginning of the past will be extrapolated. You very likely do not want this.\")\n",
      "  0%|          | 0/2000 [00:00<?, ?it/s]/Users/pamirozsuna/opt/anaconda3/lib/python3.7/site-packages/jitcdde/_jitcdde.py:792: UserWarning: The target time is smaller than the current time. No integration step will happen. The returned state will be extrapolated from the interpolating Hermite polynomial for the last integration step. You may see this because you try to integrate backwards in time, in which case you did something wrong. You may see this just because your sampling step is small, in which case there is no need to worry.\n",
      "  warn(\"The target time is smaller than the current time. No integration step will happen. The returned state will be extrapolated from the interpolating Hermite polynomial for the last integration step. You may see this because you try to integrate backwards in time, in which case you did something wrong. You may see this just because your sampling step is small, in which case there is no need to worry.\")\n",
      "100%|██████████| 2000/2000 [00:00<00:00, 204455.58it/s]"
     ]
    },
    {
     "name": "stdout",
     "output_type": "stream",
     "text": [
      "Using default integration parameters.\n"
     ]
    },
    {
     "name": "stderr",
     "output_type": "stream",
     "text": [
      "\n",
      "/Users/pamirozsuna/opt/anaconda3/lib/python3.7/site-packages/scipy/signal/spectral.py:1969: UserWarning: nperseg = 10000 is greater than input length  = 2000, using nperseg = 2000\n",
      "  .format(nperseg, input_length))\n"
     ]
    },
    {
     "data": {
      "text/plain": [
       "Text(0, 0.5, 'Power')"
      ]
     },
     "execution_count": 2,
     "metadata": {},
     "output_type": "execute_result"
    },
    {
     "data": {
      "image/png": "[encoded data removed]",
      "text/plain": [
       "<Figure size 864x288 with 2 Axes>"
      ]
     },
     "metadata": {
      "needs_background": "light"
     },
     "output_type": "display_data"
    }
   ],
   "source": [
    "# create a model and wrap it to `MultiModel`\n",
    "wc = MultiModel.init_node(WilsonCowanNode())\n",
    "\n",
    "wc.params[\"duration\"] = 2.0 * 1000  # in ms\n",
    "wc.params['*EXC*ext_drive'] = 0.45\n",
    "wc.params['node_exc_inh'] = 10.333333333333334\n",
    "wc.params['node_inh_exc'] = 9.666666666666666\n",
    "wc.params['node_inh_inh'] = 0\n",
    "wc.params['network_exc_exc'] = 1.843\n",
    "wc.params['network_inh_exc'] = 1.843\n",
    "wc.params['sigma_ou'] = 4.2819e-05\n",
    "\n",
    "# MultiModel offers two integration backends, be default we are using so-called `jitcdde` backend\n",
    "# `jitcdde` is a numerical backend employing adaptive dt scheme for DDEs, therefore we do not care about\n",
    "# actual dt (since it is adaptive), only about the sampling dt and this can be higher\n",
    "# more about this in example-4.2\n",
    "wc.params[\"sampling_dt\"] = 1.0  # in ms\n",
    "# run\n",
    "wc.run()\n",
    "\n",
    "exc_tc = wc.outputs[\"q_mean_EXC\"][0,:]\n",
    "frs, powers = func.getPowerSpectrum(\n",
    "    exc_tc,\n",
    "    wc.params[\"dt\"],\n",
    ")\n",
    "\n",
    "fig, axs = plt.subplots(1, 2, figsize=(12, 4))\n",
    "axs[0].plot(wc.t, wc[\"q_mean_EXC\"].T)\n",
    "axs[0].set_title(\"Activity\")\n",
    "axs[0].set_xlabel(\"t [ms]\")\n",
    "axs[0].set_ylabel(\"Activity T\")\n",
    "axs[1].plot(frs, powers)\n",
    "axs[1].set_title(\"Power Spectrum\")\n",
    "axs[1].set_xlabel(\"Frequency [Hz]\")\n",
    "axs[1].set_ylabel(\"Power\")\n",
    "\n",
    "#plt.savefig('tmpagain.png', dpi=500)"
   ]
  },
  {
   "cell_type": "markdown",
   "metadata": {},
   "source": [
    "As you saw in the previous cell, the internal workings of `MultiModel` are very similar to the core `neurolib`. Therefore, for simple runs, you do care about the following:\n",
    "* `MultiModel`: a wrapper class for all models in MultiModel framework which gives model objects `neurolib` powers (meaning `.params` and `.run()`). `MultiModel` class is initialized as follows:\n",
    "    * when initialising with `Node`: `model = MultiModel.init_node(<init'd Node class>)`\n",
    "    * when initialising with `Network`: `model = MultiModel(<init'd Network class>)` (see later)\n",
    "    \n",
    "## `MultiModel` parameters and other accessible attributes\n",
    "Since `MultiModel` is able to simulate heterogeneous models, the internals of how parameters work is a bit more complex than in the core `neurolib`. Each mass has its own parameters, each node then gathers the parameters of each mass within that node, and finally, the network gathers all parameters from each node in the network, etc. So hierarchy again. To make it easier to navigate through `MultiModel` hierarchies, some attributes are implemented in all hierarchy levels."
   ]
  },
  {
   "cell_type": "code",
   "execution_count": 3,
   "metadata": {
    "scrolled": true
   },
   "outputs": [
    {
     "name": "stdout",
     "output_type": "stream",
     "text": [
      "Brain network Wilson-Cowan network with 2 nodes\n",
      "Nodes: 2\n",
      "Network node: Wilson-Cowan node with 2 neural masses: Wilson-Cowan excitatory mass EXC, Wilson-Cowan inhibitory mass INH\n",
      "Network node: Wilson-Cowan node with 2 neural masses: Wilson-Cowan excitatory mass EXC, Wilson-Cowan inhibitory mass INH\n",
      "Masses in 1. node: 2\n",
      "Neural mass: Wilson-Cowan excitatory mass with 1 state variables: q_mean_EXC\n",
      "Neural mass: Wilson-Cowan inhibitory mass with 1 state variables: q_mean_INH\n",
      "This network name: Wilson-Cowan network\n",
      "This network label: WCnet\n",
      "1st node name: Wilson-Cowan node\n",
      "1st node label: WCnode\n",
      "1st node index: 0\n",
      "1st mass in 1st node name: Wilson-Cowan excitatory mass\n",
      "1st mass in 1st node label: WCmassEXC\n",
      "1st mass in 1st node index: 0\n",
      "WC EXC num. vars: 1\n",
      "WC INH num. vars: 1\n",
      "WC node num. vars: 2\n",
      "This network num. vars: 4\n",
      "WC EXC noise vars: 1\n",
      "WC EXC state vars: ['q_mean_EXC']\n",
      "WC node state vars: [['q_mean_EXC', 'q_mean_INH']]\n",
      "This network state vars: [['q_mean_EXC', 'q_mean_INH'], ['q_mean_EXC', 'q_mean_INH']]\n",
      "\n",
      "Mass `describe`:\n"
     ]
    },
    {
     "data": {
      "text/plain": [
       "{'index': 0,\n",
       " 'name': 'Wilson-Cowan excitatory mass',\n",
       " 'mass_type': 'EXC',\n",
       " 'num_state_variables': 1,\n",
       " 'num_noise_variables': 1,\n",
       " 'state_variable_names': ['q_mean_EXC'],\n",
       " 'params': {'a': 1.5,\n",
       "  'mu': 3.0,\n",
       "  'tau': 2.5,\n",
       "  'ext_drive': 0.0,\n",
       "  'input_0': {'type': 'OrnsteinUhlenbeckProcess',\n",
       "   'mu': 0.0,\n",
       "   'sigma': 0.0,\n",
       "   'tau': 5.0,\n",
       "   'n': 1,\n",
       "   'seed': None}}}"
      ]
     },
     "metadata": {},
     "output_type": "display_data"
    },
    {
     "name": "stdout",
     "output_type": "stream",
     "text": [
      "\n",
      "Node `describe`:\n"
     ]
    },
    {
     "data": {
      "text/plain": [
       "{'index': 0,\n",
       " 'name': 'Wilson-Cowan node',\n",
       " 'num_masses': 2,\n",
       " 'num_num_state_variables': 2,\n",
       " 'num_noise_variables': 2,\n",
       " 'masses': [{'index': 0,\n",
       "   'name': 'Wilson-Cowan excitatory mass',\n",
       "   'mass_type': 'EXC',\n",
       "   'num_state_variables': 1,\n",
       "   'num_noise_variables': 1,\n",
       "   'state_variable_names': ['q_mean_EXC'],\n",
       "   'params': {'a': 1.5,\n",
       "    'mu': 3.0,\n",
       "    'tau': 2.5,\n",
       "    'ext_drive': 0.0,\n",
       "    'input_0': {'type': 'OrnsteinUhlenbeckProcess',\n",
       "     'mu': 0.0,\n",
       "     'sigma': 0.0,\n",
       "     'tau': 5.0,\n",
       "     'n': 1,\n",
       "     'seed': None}}},\n",
       "  {'index': 1,\n",
       "   'name': 'Wilson-Cowan inhibitory mass',\n",
       "   'mass_type': 'INH',\n",
       "   'num_state_variables': 1,\n",
       "   'num_noise_variables': 1,\n",
       "   'state_variable_names': ['q_mean_INH'],\n",
       "   'params': {'a': 1.5,\n",
       "    'mu': 3.0,\n",
       "    'tau': 3.75,\n",
       "    'ext_drive': 0.0,\n",
       "    'input_0': {'type': 'OrnsteinUhlenbeckProcess',\n",
       "     'mu': 0.0,\n",
       "     'sigma': 0.0,\n",
       "     'tau': 5.0,\n",
       "     'n': 1,\n",
       "     'seed': None}}}],\n",
       " 'local_connectivity': array([[16., 12.],\n",
       "        [15.,  3.]]),\n",
       " 'local_delays': array([[0., 0.],\n",
       "        [0., 0.]])}"
      ]
     },
     "metadata": {},
     "output_type": "display_data"
    },
    {
     "name": "stdout",
     "output_type": "stream",
     "text": [
      "\n",
      "Network `describe`:\n"
     ]
    },
    {
     "data": {
      "text/plain": [
       "{'name': 'Wilson-Cowan network',\n",
       " 'num_nodes': 2,\n",
       " 'num_state_variables': 4,\n",
       " 'num_noise_variables': 4,\n",
       " 'nodes': [{'index': 0,\n",
       "   'name': 'Wilson-Cowan node',\n",
       "   'num_masses': 2,\n",
       "   'num_num_state_variables': 2,\n",
       "   'num_noise_variables': 2,\n",
       "   'masses': [{'index': 0,\n",
       "     'name': 'Wilson-Cowan excitatory mass',\n",
       "     'mass_type': 'EXC',\n",
       "     'num_state_variables': 1,\n",
       "     'num_noise_variables': 1,\n",
       "     'state_variable_names': ['q_mean_EXC'],\n",
       "     'params': {'a': 1.5,\n",
       "      'mu': 3.0,\n",
       "      'tau': 2.5,\n",
       "      'ext_drive': 0.0,\n",
       "      'input_0': {'type': 'OrnsteinUhlenbeckProcess',\n",
       "       'mu': 0.0,\n",
       "       'sigma': 0.0,\n",
       "       'tau': 5.0,\n",
       "       'n': 1,\n",
       "       'seed': None}}},\n",
       "    {'index': 1,\n",
       "     'name': 'Wilson-Cowan inhibitory mass',\n",
       "     'mass_type': 'INH',\n",
       "     'num_state_variables': 1,\n",
       "     'num_noise_variables': 1,\n",
       "     'state_variable_names': ['q_mean_INH'],\n",
       "     'params': {'a': 1.5,\n",
       "      'mu': 3.0,\n",
       "      'tau': 3.75,\n",
       "      'ext_drive': 0.0,\n",
       "      'input_0': {'type': 'OrnsteinUhlenbeckProcess',\n",
       "       'mu': 0.0,\n",
       "       'sigma': 0.0,\n",
       "       'tau': 5.0,\n",
       "       'n': 1,\n",
       "       'seed': None}}}],\n",
       "   'local_connectivity': array([[16., 12.],\n",
       "          [15.,  3.]]),\n",
       "   'local_delays': array([[0., 0.],\n",
       "          [0., 0.]])},\n",
       "  {'index': 1,\n",
       "   'name': 'Wilson-Cowan node',\n",
       "   'num_masses': 2,\n",
       "   'num_num_state_variables': 2,\n",
       "   'num_noise_variables': 2,\n",
       "   'masses': [{'index': 0,\n",
       "     'name': 'Wilson-Cowan excitatory mass',\n",
       "     'mass_type': 'EXC',\n",
       "     'num_state_variables': 1,\n",
       "     'num_noise_variables': 1,\n",
       "     'state_variable_names': ['q_mean_EXC'],\n",
       "     'params': {'a': 1.5,\n",
       "      'mu': 3.0,\n",
       "      'tau': 2.5,\n",
       "      'ext_drive': 0.0,\n",
       "      'input_0': {'type': 'OrnsteinUhlenbeckProcess',\n",
       "       'mu': 0.0,\n",
       "       'sigma': 0.0,\n",
       "       'tau': 5.0,\n",
       "       'n': 1,\n",
       "       'seed': None}}},\n",
       "    {'index': 1,\n",
       "     'name': 'Wilson-Cowan inhibitory mass',\n",
       "     'mass_type': 'INH',\n",
       "     'num_state_variables': 1,\n",
       "     'num_noise_variables': 1,\n",
       "     'state_variable_names': ['q_mean_INH'],\n",
       "     'params': {'a': 1.5,\n",
       "      'mu': 3.0,\n",
       "      'tau': 3.75,\n",
       "      'ext_drive': 0.0,\n",
       "      'input_0': {'type': 'OrnsteinUhlenbeckProcess',\n",
       "       'mu': 0.0,\n",
       "       'sigma': 0.0,\n",
       "       'tau': 5.0,\n",
       "       'n': 1,\n",
       "       'seed': None}}}],\n",
       "   'local_connectivity': array([[16., 12.],\n",
       "          [15.,  3.]]),\n",
       "   'local_delays': array([[0., 0.],\n",
       "          [0., 0.]])}],\n",
       " 'connectivity': array([[0., 1.],\n",
       "        [1., 0.]]),\n",
       " 'delays': array([[0., 0.],\n",
       "        [0., 0.]])}"
      ]
     },
     "metadata": {},
     "output_type": "display_data"
    }
   ],
   "source": [
    "dummy_sc = np.array([[0.0, 1.0], [1.0, 0.0]])\n",
    "# init MultiModelnetwork with 2 WC nodes with dummy sc and no delays\n",
    "\n",
    "mm_net = WilsonCowanNetwork(connectivity_matrix=dummy_sc, delay_matrix=None)\n",
    "\n",
    "print(mm_net)\n",
    "# each network is an proper python iterator, i.e. len() is defined\n",
    "print(f\"Nodes: {len(mm_net)}\")\n",
    "# as well as __get_item__\n",
    "print(mm_net[0])\n",
    "print(mm_net[1])\n",
    "# similarly, each node is a python iterator, i.e.\n",
    "print(f\"Masses in 1. node: {len(mm_net[0])}\")\n",
    "print(mm_net[0][0])\n",
    "print(mm_net[0][1])\n",
    "\n",
    "# in order to navigate through the hierarchy, each mass, node and net\n",
    "# has its own name and label and index\n",
    "# index of a node is relative within the network\n",
    "# index of a mass is relative within the node\n",
    "print(f\"This network name: {mm_net.name}\")\n",
    "print(f\"This network label: {mm_net.label}\")\n",
    "print(f\"1st node name: {mm_net[0].name}\")\n",
    "print(f\"1st node label: {mm_net[0].label}\")\n",
    "print(f\"1st node index: {mm_net[0].index}\")\n",
    "print(f\"1st mass in 1st node name: {mm_net[0][0].name}\")\n",
    "print(f\"1st mass in 1st node label: {mm_net[0][0].label}\")\n",
    "print(f\"1st mass in 1st node index: {mm_net[0][0].index}\")\n",
    "\n",
    "# you can also check number of variables etc at all levels of hierarchy\n",
    "print(f\"WC EXC num. vars: {mm_net[0][0].num_state_variables}\")\n",
    "print(f\"WC INH num. vars: {mm_net[0][1].num_state_variables}\")\n",
    "print(f\"WC node num. vars: {mm_net[0].num_state_variables}\")\n",
    "print(f\"This network num. vars: {mm_net.num_state_variables}\")\n",
    "# similarly you can check number of \"noise variables\", i.e. the number\n",
    "# of stochastic variables entering the simulation\n",
    "print(f\"WC EXC noise vars: {mm_net[0][0].num_noise_variables}\")\n",
    "# etc\n",
    "\n",
    "# not sure what are the state variables? no problem!\n",
    "print(f\"WC EXC state vars: {mm_net[0][0].state_variable_names}\")\n",
    "print(f\"WC node state vars: {mm_net[0].state_variable_names}\")\n",
    "print(f\"This network state vars: {mm_net.state_variable_names}\")\n",
    "\n",
    "# if you are unsure what kind of a monster you build in MultiModel,\n",
    "# a function `describe()` is available at all three levels -\n",
    "# it returns a dictionary with basic info about the model object\n",
    "# this is describe of a `NeuralMass`\n",
    "print(\"\")\n",
    "print(\"Mass `describe`:\")\n",
    "display(mm_net[0][0].describe())\n",
    "# describe of a `Node` recursively describes all masses and some more\n",
    "print(\"\")\n",
    "print(\"Node `describe`:\")\n",
    "display(mm_net[0].describe())\n",
    "# and finally, describe of a `Network` gives you everything\n",
    "print(\"\")\n",
    "print(\"Network `describe`:\")\n",
    "display(mm_net.describe())\n",
    "\n",
    "# PRO tip: imagine highly heterogeneous network and some long simulation with it;\n",
    "# apart from the results you can dump `net.describe()` dictionary into json and\n",
    "# never forget what you've done!"
   ]
  },
  {
   "cell_type": "code",
   "execution_count": 4,
   "metadata": {
    "scrolled": true
   },
   "outputs": [
    {
     "data": {
      "text/plain": [
       "{'WCnet.WCnode_0.WCmassEXC_0.a': 1.5,\n",
       " 'WCnet.WCnode_0.WCmassEXC_0.mu': 3.0,\n",
       " 'WCnet.WCnode_0.WCmassEXC_0.tau': 2.5,\n",
       " 'WCnet.WCnode_0.WCmassEXC_0.ext_drive': 0.0,\n",
       " 'WCnet.WCnode_0.WCmassEXC_0.input_0.type': 'OrnsteinUhlenbeckProcess',\n",
       " 'WCnet.WCnode_0.WCmassEXC_0.input_0.mu': 0.0,\n",
       " 'WCnet.WCnode_0.WCmassEXC_0.input_0.sigma': 0.0,\n",
       " 'WCnet.WCnode_0.WCmassEXC_0.input_0.tau': 5.0,\n",
       " 'WCnet.WCnode_0.WCmassEXC_0.input_0.n': 1,\n",
       " 'WCnet.WCnode_0.WCmassEXC_0.input_0.seed': None,\n",
       " 'WCnet.WCnode_0.WCmassINH_1.a': 1.5,\n",
       " 'WCnet.WCnode_0.WCmassINH_1.mu': 3.0,\n",
       " 'WCnet.WCnode_0.WCmassINH_1.tau': 3.75,\n",
       " 'WCnet.WCnode_0.WCmassINH_1.ext_drive': 0.0,\n",
       " 'WCnet.WCnode_0.WCmassINH_1.input_0.type': 'OrnsteinUhlenbeckProcess',\n",
       " 'WCnet.WCnode_0.WCmassINH_1.input_0.mu': 0.0,\n",
       " 'WCnet.WCnode_0.WCmassINH_1.input_0.sigma': 0.0,\n",
       " 'WCnet.WCnode_0.WCmassINH_1.input_0.tau': 5.0,\n",
       " 'WCnet.WCnode_0.WCmassINH_1.input_0.n': 1,\n",
       " 'WCnet.WCnode_0.WCmassINH_1.input_0.seed': None,\n",
       " 'WCnet.WCnode_0.local_connectivity': array([[16., 12.],\n",
       "        [15.,  3.]]),\n",
       " 'WCnet.WCnode_0.local_delays': array([[0., 0.],\n",
       "        [0., 0.]]),\n",
       " 'WCnet.WCnode_1.WCmassEXC_0.a': 1.5,\n",
       " 'WCnet.WCnode_1.WCmassEXC_0.mu': 3.0,\n",
       " 'WCnet.WCnode_1.WCmassEXC_0.tau': 2.5,\n",
       " 'WCnet.WCnode_1.WCmassEXC_0.ext_drive': 0.0,\n",
       " 'WCnet.WCnode_1.WCmassEXC_0.input_0.type': 'OrnsteinUhlenbeckProcess',\n",
       " 'WCnet.WCnode_1.WCmassEXC_0.input_0.mu': 0.0,\n",
       " 'WCnet.WCnode_1.WCmassEXC_0.input_0.sigma': 0.0,\n",
       " 'WCnet.WCnode_1.WCmassEXC_0.input_0.tau': 5.0,\n",
       " 'WCnet.WCnode_1.WCmassEXC_0.input_0.n': 1,\n",
       " 'WCnet.WCnode_1.WCmassEXC_0.input_0.seed': None,\n",
       " 'WCnet.WCnode_1.WCmassINH_1.a': 1.5,\n",
       " 'WCnet.WCnode_1.WCmassINH_1.mu': 3.0,\n",
       " 'WCnet.WCnode_1.WCmassINH_1.tau': 3.75,\n",
       " 'WCnet.WCnode_1.WCmassINH_1.ext_drive': 0.0,\n",
       " 'WCnet.WCnode_1.WCmassINH_1.input_0.type': 'OrnsteinUhlenbeckProcess',\n",
       " 'WCnet.WCnode_1.WCmassINH_1.input_0.mu': 0.0,\n",
       " 'WCnet.WCnode_1.WCmassINH_1.input_0.sigma': 0.0,\n",
       " 'WCnet.WCnode_1.WCmassINH_1.input_0.tau': 5.0,\n",
       " 'WCnet.WCnode_1.WCmassINH_1.input_0.n': 1,\n",
       " 'WCnet.WCnode_1.WCmassINH_1.input_0.seed': None,\n",
       " 'WCnet.WCnode_1.local_connectivity': array([[16., 12.],\n",
       "        [15.,  3.]]),\n",
       " 'WCnet.WCnode_1.local_delays': array([[0., 0.],\n",
       "        [0., 0.]]),\n",
       " 'WCnet.connectivity': array([[0., 1.],\n",
       "        [1., 0.]]),\n",
       " 'WCnet.delays': array([[0., 0.],\n",
       "        [0., 0.]]),\n",
       " 'duration': 2000,\n",
       " 'dt': 0.1,\n",
       " 'seed': None,\n",
       " 'backend': 'jitcdde',\n",
       " 'name': 'WCnet',\n",
       " 'description': 'Wilson-Cowan network',\n",
       " 'N': 2,\n",
       " 'Cmat': array([[0., 1.],\n",
       "        [1., 0.]]),\n",
       " 'sampling_dt': 0.1}"
      ]
     },
     "execution_count": 4,
     "metadata": {},
     "output_type": "execute_result"
    }
   ],
   "source": [
    "# now let us check the parameters.. for this we initialise MultiModel in neurolib's fashion\n",
    "#aln_net = MultiModel(mm_net)\n",
    "wc_net = MultiModel(mm_net)\n",
    "# parameters are accessible via .params\n",
    "#aln_net.params\n",
    "wc_net.params\n",
    "# as you can see the parameters are flattened nested dictionary which follows this nomenclature\n",
    "# {\"<network label>.<node label>_index.<mass label>_index.<param name>: param value\"}"
   ]
  },
  {
   "cell_type": "code",
   "execution_count": 5,
   "metadata": {},
   "outputs": [
    {
     "data": {
      "text/plain": [
       "{'WCnet.WCnode_0.WCmassEXC_0.tau': 2.5,\n",
       " 'WCnet.WCnode_0.WCmassEXC_0.input_0.tau': 5.0,\n",
       " 'WCnet.WCnode_0.WCmassINH_1.tau': 3.75,\n",
       " 'WCnet.WCnode_0.WCmassINH_1.input_0.tau': 5.0,\n",
       " 'WCnet.WCnode_1.WCmassEXC_0.tau': 2.5,\n",
       " 'WCnet.WCnode_1.WCmassEXC_0.input_0.tau': 5.0,\n",
       " 'WCnet.WCnode_1.WCmassINH_1.tau': 3.75,\n",
       " 'WCnet.WCnode_1.WCmassINH_1.input_0.tau': 5.0}"
      ]
     },
     "metadata": {},
     "output_type": "display_data"
    },
    {
     "name": "stdout",
     "output_type": "stream",
     "text": [
      "\n"
     ]
    },
    {
     "data": {
      "text/plain": [
       "{'WCnet.WCnode_0.WCmassEXC_0.tau': 2.5,\n",
       " 'WCnet.WCnode_0.WCmassEXC_0.input_0.tau': 5.0,\n",
       " 'WCnet.WCnode_1.WCmassEXC_0.tau': 2.5,\n",
       " 'WCnet.WCnode_1.WCmassEXC_0.input_0.tau': 5.0}"
      ]
     },
     "metadata": {},
     "output_type": "display_data"
    },
    {
     "name": "stdout",
     "output_type": "stream",
     "text": [
      "\n"
     ]
    },
    {
     "data": {
      "text/plain": [
       "{}"
      ]
     },
     "metadata": {},
     "output_type": "display_data"
    },
    {
     "data": {
      "text/plain": [
       "{}"
      ]
     },
     "metadata": {},
     "output_type": "display_data"
    },
    {
     "name": "stdout",
     "output_type": "stream",
     "text": [
      "\n"
     ]
    },
    {
     "data": {
      "text/plain": [
       "{}"
      ]
     },
     "metadata": {},
     "output_type": "display_data"
    }
   ],
   "source": [
    "# as you can see there are a lot of parameters for simple 2-node network of ALN models\n",
    "# typically you want to change parameters of all nodes at the same time\n",
    "# fortunately, model.params is not your basic dictionary, it's a special one, we call it `star` dictionary,\n",
    "# because you can do this:\n",
    "display(wc_net.params[\"*tau\"])\n",
    "print(\"\")\n",
    "\n",
    "# so yes, star works as a glob identifier, so by selecting \"*tau\" I want all parameters named tau\n",
    "# (I dont care from which mass or node it comes)\n",
    "# what if I want to change taus only in EXC masses? easy:\n",
    "#display(aln_net.params[\"*EXC*tau\"])\n",
    "display(wc_net.params[\"*EXC*tau\"])\n",
    "print(\"\")\n",
    "# or maybe I want to change taus only in the first node?\n",
    "display(wc_net.params[\"*Node_0*tau\"])\n",
    "display(wc_net.params[\"*Node_0*tau\"])\n",
    "print(\"\")\n",
    "# of course, you can change a param value with this\n",
    "wc_net.params[\"*Node_0*tau\"] = 13.2\n",
    "display(wc_net.params[\"*Node_0*tau\"])\n",
    "wc_net.params[\"*Node_0*tau\"] = 5.0"
   ]
  },
  {
   "cell_type": "code",
   "execution_count": 6,
   "metadata": {},
   "outputs": [
    {
     "data": {
      "text/plain": [
       "{'WCnet.WCnode_0.WCmassEXC_0.tau': 2.5,\n",
       " 'WCnet.WCnode_0.WCmassEXC_0.input_0.tau': 5.0,\n",
       " 'WCnet.WCnode_0.WCmassINH_1.tau': 3.75,\n",
       " 'WCnet.WCnode_0.WCmassINH_1.input_0.tau': 5.0,\n",
       " 'WCnet.WCnode_1.WCmassEXC_0.tau': 2.5,\n",
       " 'WCnet.WCnode_1.WCmassEXC_0.input_0.tau': 5.0,\n",
       " 'WCnet.WCnode_1.WCmassINH_1.tau': 3.75,\n",
       " 'WCnet.WCnode_1.WCmassINH_1.input_0.tau': 5.0}"
      ]
     },
     "metadata": {},
     "output_type": "display_data"
    },
    {
     "name": "stdout",
     "output_type": "stream",
     "text": [
      "\n"
     ]
    },
    {
     "data": {
      "text/plain": [
       "{'WCnet.WCnode_0.WCmassEXC_0.tau': 2.5,\n",
       " 'WCnet.WCnode_0.WCmassINH_1.tau': 3.75,\n",
       " 'WCnet.WCnode_1.WCmassEXC_0.tau': 2.5,\n",
       " 'WCnet.WCnode_1.WCmassINH_1.tau': 3.75}"
      ]
     },
     "metadata": {},
     "output_type": "display_data"
    }
   ],
   "source": [
    "# case: I want to change all taus except \"noise\" taus\n",
    "# this gives all the taus, including \"noise\"\n",
    "display(wc_net.params[\"*tau*\"])\n",
    "print(\"\")\n",
    "# pipe symbol filters out unwanted keys - here we have only taus which key does NOT include \"input\"\n",
    "display(wc_net.params[\"*tau*|input\"])"
   ]
  },
  {
   "cell_type": "code",
   "execution_count": 14,
   "metadata": {
    "scrolled": true,
    "tags": []
   },
   "outputs": [
    {
     "name": "stderr",
     "output_type": "stream",
     "text": [
      "100%|██████████| 2000/2000 [00:00<00:00, 189226.68it/s]"
     ]
    },
    {
     "name": "stdout",
     "output_type": "stream",
     "text": [
      "Using default integration parameters.\n"
     ]
    },
    {
     "name": "stderr",
     "output_type": "stream",
     "text": [
      "\n",
      "100%|██████████| 2000/2000 [00:00<00:00, 199881.05it/s]"
     ]
    },
    {
     "name": "stdout",
     "output_type": "stream",
     "text": [
      "Using default integration parameters.\n"
     ]
    },
    {
     "name": "stderr",
     "output_type": "stream",
     "text": [
      "\n",
      "100%|██████████| 2000/2000 [00:00<00:00, 165152.84it/s]"
     ]
    },
    {
     "name": "stdout",
     "output_type": "stream",
     "text": [
      "Using default integration parameters.\n"
     ]
    },
    {
     "name": "stderr",
     "output_type": "stream",
     "text": [
      "\n"
     ]
    },
    {
     "name": "stdout",
     "output_type": "stream",
     "text": [
      "Using default integration parameters.\n"
     ]
    },
    {
     "name": "stderr",
     "output_type": "stream",
     "text": [
      "100%|██████████| 2000/2000 [00:00<00:00, 23055.89it/s]\n",
      "100%|██████████| 2000/2000 [00:00<00:00, 42087.40it/s]"
     ]
    },
    {
     "name": "stdout",
     "output_type": "stream",
     "text": [
      "Using default integration parameters.\n"
     ]
    },
    {
     "name": "stderr",
     "output_type": "stream",
     "text": [
      "\n",
      "100%|██████████| 2000/2000 [00:00<00:00, 56668.68it/s]"
     ]
    },
    {
     "name": "stdout",
     "output_type": "stream",
     "text": [
      "Using default integration parameters.\n"
     ]
    },
    {
     "name": "stderr",
     "output_type": "stream",
     "text": [
      "\n",
      "100%|██████████| 2000/2000 [00:00<00:00, 64077.73it/s]"
     ]
    },
    {
     "name": "stdout",
     "output_type": "stream",
     "text": [
      "Using default integration parameters.\n"
     ]
    },
    {
     "name": "stderr",
     "output_type": "stream",
     "text": [
      "\n",
      "100%|██████████| 2000/2000 [00:00<00:00, 179642.97it/s]"
     ]
    },
    {
     "name": "stdout",
     "output_type": "stream",
     "text": [
      "Using default integration parameters.\n"
     ]
    },
    {
     "name": "stderr",
     "output_type": "stream",
     "text": [
      "\n",
      "100%|██████████| 2000/2000 [00:00<00:00, 30443.25it/s]"
     ]
    },
    {
     "name": "stdout",
     "output_type": "stream",
     "text": [
      "Using default integration parameters.\n"
     ]
    },
    {
     "name": "stderr",
     "output_type": "stream",
     "text": [
      "\n",
      "100%|██████████| 2000/2000 [00:00<00:00, 172038.72it/s]"
     ]
    },
    {
     "name": "stdout",
     "output_type": "stream",
     "text": [
      "Using default integration parameters.\n"
     ]
    },
    {
     "name": "stderr",
     "output_type": "stream",
     "text": [
      "\n"
     ]
    }
   ],
   "source": [
    "max_rate_e = []\n",
    "min_rate_e = []\n",
    "\n",
    "# number low for testing:\n",
    "exc_inputs = np.linspace(0, 3.5, 2)\n",
    "# use: exc_inputs = np.linspace(0, 3.5, 20)\n",
    "\n",
    "# the 1D bif. diagram\n",
    "wc.params[\"duration\"] = 2.0 * 1000 \n",
    "wc.params['node_exc_inh'] = 10.333333333333334\n",
    "wc.params['node_inh_exc'] = 9.666666666666666\n",
    "wc.params['node_inh_inh'] = 0\n",
    "wc.params['network_exc_exc'] = 1.843\n",
    "wc.params['network_inh_exc'] = 1.843\n",
    "wc.params['sigma_ou'] = 4.2819e-05\n",
    "wc.params[\"sampling_dt\"] = 1.0  # in ms\n",
    "for exc_ext in exc_inputs:\n",
    "    wc.params[\"*EXC*ext_drive\"] = exc_ext\n",
    "    wc.run()\n",
    "    max_rate_e.append(np.max(wc.output[0, -int(1000 / wc.params[\"sampling_dt\"]) :]))\n",
    "    min_rate_e.append(np.min(wc.output[0, -int(1000 / wc.params[\"sampling_dt\"]) :]))"
   ]
  },
  {
   "cell_type": "code",
   "execution_count": 15,
   "metadata": {},
   "outputs": [
    {
     "data": {
      "text/plain": [
       "Text(0, 0.5, 'Min / max firing rate [kHz]')"
      ]
     },
     "execution_count": 15,
     "metadata": {},
     "output_type": "execute_result"
    },
    {
     "data": {
      "image/png": "[encoded data removed]",
      "text/plain": [
       "<Figure size 432x288 with 1 Axes>"
      ]
     },
     "metadata": {
      "needs_background": "light"
     },
     "output_type": "display_data"
    }
   ],
   "source": [
    "plt.plot(exc_inputs, max_rate_e, c=\"k\", lw=2)\n",
    "plt.plot(exc_inputs, min_rate_e, c=\"k\", lw=2)\n",
    "plt.title(\"Bifurcation diagram of the wc model\")\n",
    "plt.xlabel(\"Input to excitatory population\")\n",
    "plt.ylabel(\"Min / max firing rate [kHz]\")"
   ]
  }
 ],
 "metadata": {
  "interpreter": {
   "hash": "6782b767ef25d51763971ef6ad1a9352effd271a7bead29d382d3d8cd90146d0"
  },
  "kernelspec": {
   "display_name": "Python 3",
   "language": "python",
   "name": "python3"
  },
  "language_info": {
   "codemirror_mode": {
    "name": "ipython",
    "version": 3
   },
   "file_extension": ".py",
   "mimetype": "text/x-python",
   "name": "python",
   "nbconvert_exporter": "python",
   "pygments_lexer": "ipython3",
   "version": "3.7.4"
  }
 },
 "nbformat": 4,
 "nbformat_minor": 5
}
