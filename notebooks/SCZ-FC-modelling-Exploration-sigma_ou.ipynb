{
 "cells": [
  {
   "cell_type": "markdown",
   "metadata": {},
   "source": [
    "# The Wilson-Cowan model\n",
    "\n",
    "In this notebook, the basic use of the implementation of the Wilson-Cowan (`wc`) model is presented. \n",
    "\n",
    "In the `wc` model, the activity of a particular brain region is defined by a coupled system of excitatory (E) and inhibitory (I) neuronal populations with the mean firing rates of the E and I pools being the dynamic variables, as first described by Wilson and Cowan in 1972 ( H.R. Wilson and J.D. Cowan. *Excitatory and inhibitory interactions in localized populations of model neurons*. Biophys. J., 12:1–24 (1972)) "
   ]
  },
  {
   "cell_type": "code",
   "execution_count": 1,
   "metadata": {},
   "outputs": [],
   "source": [
    "import matplotlib.pyplot as plt\n",
    "import numpy as np\n",
    "import glob\n",
    "import scipy\n",
    "import neurolib.utils.devutils as du\n",
    "\n",
    "from neurolib.models.wc import WCModel\n",
    "\n",
    "import neurolib.utils.loadData as ld\n",
    "import neurolib.utils.functions as func\n",
    "from neurolib.utils.loadData import Dataset\n",
    "from scipy.io import loadmat\n",
    "from neurolib.utils.loadData import filterSubcortical\n",
    "\n",
    "# a nice color map\n",
    "plt.rcParams['image.cmap'] = 'plasma'"
   ]
  },
  {
   "cell_type": "code",
   "execution_count": 2,
   "metadata": {},
   "outputs": [],
   "source": [
    "data_path = \"/Users/pamirozsuna/Desktop/pamir_ma/SCZ-FC-modelling\""
   ]
  },
  {
   "cell_type": "code",
   "execution_count": 3,
   "metadata": {},
   "outputs": [],
   "source": [
    "def averageMat(Mat):\n",
    "    avMat = np.zeros((94,94))\n",
    "    for i in range(len(Mat)):\n",
    "        avMat = avMat + Mat[i]\n",
    "    avMat = avMat/len(Mat)\n",
    "    return avMat"
   ]
  },
  {
   "cell_type": "code",
   "execution_count": 4,
   "metadata": {
    "scrolled": true
   },
   "outputs": [],
   "source": [
    "C_data = np.load(data_path+\"/AvgCmatrixSCZ.npy\")\n",
    "D_data = np.load(data_path+\"/AvgDmatrixSCZ.npy\")"
   ]
  },
  {
   "cell_type": "code",
   "execution_count": 5,
   "metadata": {},
   "outputs": [],
   "source": [
    "Cmat_tmp = averageMat(C_data)\n",
    "Dmat_tmp = averageMat(D_data)"
   ]
  },
  {
   "cell_type": "code",
   "execution_count": 6,
   "metadata": {},
   "outputs": [],
   "source": [
    "Cmat = filterSubcortical(Cmat_tmp)\n",
    "Dmat = filterSubcortical(Dmat_tmp)"
   ]
  },
  {
   "cell_type": "code",
   "execution_count": 7,
   "metadata": {},
   "outputs": [],
   "source": [
    "FC_data = np.load(data_path+\"/AvgFmatrixSCZ.npy\")\n",
    "timeseries = np.load(data_path+\"/AvgTmatrixSCZ.npy\")"
   ]
  },
  {
   "cell_type": "code",
   "execution_count": 8,
   "metadata": {},
   "outputs": [],
   "source": [
    "FC_tmp = averageMat(FC_data)\n",
    "FCs = filterSubcortical(FC_tmp)"
   ]
  },
  {
   "cell_type": "code",
   "execution_count": 9,
   "metadata": {
    "scrolled": false
   },
   "outputs": [
    {
     "name": "stdout",
     "output_type": "stream",
     "text": [
      "0\n",
      "0.0\n",
      "0.998159202401244\n",
      "1\n",
      "0.05102040816326531\n",
      "0.9981530123315291\n",
      "2\n",
      "0.10204081632653061\n",
      "0.9981954896547375\n",
      "3\n",
      "0.15306122448979592\n",
      "0.9980497172361076\n",
      "4\n",
      "0.20408163265306123\n",
      "0.9980906939555788\n",
      "5\n",
      "0.25510204081632654\n",
      "0.9980242979578773\n",
      "6\n",
      "0.30612244897959184\n",
      "0.9978868060708826\n",
      "7\n",
      "0.35714285714285715\n",
      "0.9979388258825779\n",
      "8\n",
      "0.40816326530612246\n",
      "0.9978205549911963\n",
      "9\n",
      "0.45918367346938777\n",
      "0.9979291045525381\n",
      "10\n",
      "0.5102040816326531\n",
      "0.9978344969619541\n",
      "11\n",
      "0.5612244897959184\n",
      "0.9978273574396124\n",
      "12\n",
      "0.6122448979591837\n",
      "0.9980434549140582\n",
      "13\n",
      "0.6632653061224489\n",
      "0.9977056977417638\n",
      "14\n",
      "0.7142857142857143\n",
      "0.9975376107575263\n",
      "15\n",
      "0.7653061224489797\n",
      "0.9974670273221511\n",
      "16\n",
      "0.8163265306122449\n",
      "0.9971044055438182\n",
      "17\n",
      "0.8673469387755102\n",
      "0.9971180439811675\n",
      "18\n",
      "0.9183673469387755\n",
      "0.9969747067084032\n",
      "19\n",
      "0.9693877551020409\n",
      "0.9970271648075263\n",
      "20\n",
      "1.0204081632653061\n",
      "0.9971736400135736\n",
      "21\n",
      "1.0714285714285714\n",
      "0.9659480384502243\n",
      "22\n",
      "1.1224489795918369\n",
      "0.9427929149012388\n",
      "23\n",
      "1.1734693877551021\n",
      "0.9448101471088828\n",
      "24\n",
      "1.2244897959183674\n",
      "0.8163097105672464\n",
      "25\n",
      "1.2755102040816326\n",
      "0.8916678795320717\n",
      "26\n",
      "1.3265306122448979\n",
      "0.8503002322803875\n",
      "27\n",
      "1.3775510204081634\n",
      "0.9694543057456686\n",
      "28\n",
      "1.4285714285714286\n",
      "0.9229985535081684\n",
      "29\n",
      "1.4795918367346939\n",
      "0.9781590428093503\n",
      "30\n",
      "1.5306122448979593\n",
      "0.58135658357657\n",
      "31\n",
      "1.5816326530612246\n",
      "0.2606252603170322\n",
      "32\n",
      "1.6326530612244898\n",
      "0.16364042866523745\n",
      "33\n",
      "1.683673469387755\n",
      "0.19554718131112228\n",
      "34\n",
      "1.7346938775510203\n",
      "0.2894098815000868\n",
      "35\n",
      "1.7857142857142858\n",
      "0.3939611593971074\n",
      "36\n",
      "1.836734693877551\n",
      "0.6650768753891607\n",
      "37\n",
      "1.8877551020408163\n",
      "0.5079644327804435\n",
      "38\n",
      "1.9387755102040818\n",
      "0.6451245138292747\n",
      "39\n",
      "1.989795918367347\n",
      "0.4326711882638522\n",
      "40\n",
      "2.0408163265306123\n",
      "0.6991835714844353\n",
      "41\n",
      "2.0918367346938775\n",
      "0.6772421021857857\n",
      "42\n",
      "2.142857142857143\n",
      "0.5785552546863005\n",
      "43\n",
      "2.193877551020408\n",
      "0.8341851382499884\n",
      "44\n",
      "2.2448979591836737\n",
      "0.7961480743201852\n",
      "45\n",
      "2.295918367346939\n",
      "0.7716189662204072\n",
      "46\n",
      "2.3469387755102042\n",
      "0.7500744116220409\n",
      "47\n",
      "2.3979591836734695\n",
      "0.7264617195917729\n",
      "48\n",
      "2.4489795918367347\n",
      "0.7046014729520271\n",
      "49\n",
      "2.5\n",
      "0.6816850416435156\n"
     ]
    }
   ],
   "source": [
    "#wc.params['exc_ext'] = 0.45\n",
    "#wc.params['c_excinh'] = 10.1\n",
    "#wc.params['c_inhexc'] = 9.55\n",
    "#wc.params['c_inhinh'] = 0\n",
    "#wc.params['K_gl'] = 1.84\n",
    "#wc.params['sigma_ou'] = 4.28e-05\n",
    "\n",
    "#wc.params['exc_ext'] = 0.45\n",
    "#wc.params['c_excinh'] = 10.1\n",
    "#wc.params['c_inhexc'] = 9.95\n",
    "#wc.params['c_inhinh'] = 0\n",
    "#wc.params['K_gl'] = 1.84\n",
    "#wc.params['sigma_ou'] = 4.28e-05\n",
    "total_gbc_model = []\n",
    "total_scores_model = []\n",
    "i_list = []\n",
    "\n",
    "input = np.linspace(0, 2.5, 50) \n",
    "\n",
    "for i in range(len(input)): \n",
    "    wc = WCModel(Cmat = Cmat, Dmat = Dmat)\n",
    "    wc.params['duration'] = 40*1000\n",
    "    print(i)\n",
    "    print(input[i])\n",
    "    wc.params['exc_ext'] = 0.45\n",
    "    wc.params['c_excinh'] = 10.33\n",
    "    wc.params['c_inhexc'] = 9.67\n",
    "    wc.params['c_inhinh'] = 0\n",
    "    wc.params['K_gl'] = input[i]\n",
    "    wc.params['sigma_ou'] = 4.28e-05\n",
    "    wc.run(bold = True)\n",
    "    gbc_model = np.mean(func.fc(wc.BOLD.BOLD[:, wc.BOLD.t_BOLD>10000]))\n",
    "    total_gbc_model.append(gbc_model)\n",
    "    print(gbc_model)\n",
    "    scores = [func.matrix_correlation(func.fc(wc.BOLD.BOLD[:, wc.BOLD.t_BOLD>10000]), FCs)]\n",
    "    total_scores_model.append(np.mean(scores))\n",
    "    i_list.append(i)"
   ]
  },
  {
   "cell_type": "code",
   "execution_count": 11,
   "metadata": {},
   "outputs": [
    {
     "name": "stdout",
     "output_type": "stream",
     "text": [
      "[0.9992588753070569, 0.9992100125279667, 0.9991938827327792, 0.9991903655214601, 0.9991427578332945, 0.9991254196732119, 0.9990499300820903, 0.9990391811168111, 0.9988235726913284, 0.9989189645464197, 0.9987891130227442, 0.9988120950500218, 0.9981639477407532, 0.9979520132091839, 0.9451250732064633, 0.6249072828567749, 0.810083542720737, 0.6905635894633222, 0.7122553244728533, 0.8400588346104746, 0.9246383731076184, 0.7882764221391549, 0.7652448221875917, 0.8545384193719109, 0.8413110562807046, 0.897496087908591, 0.9070726371387501, 0.8898869371692393, 0.8784424073042874, 0.8486824745275129, 0.890757860507846, 0.8290248359421409, 0.7822308261395312, 0.7961780000764281, 0.8175765157309965, 0.8390500478867403, 0.9570750305867977, 0.9952196361331531, 0.9989479358274272, 0.9999957951159654, 0.9999975690040245, 0.9999982147187987, 0.9999982636254692, 0.9999986931583584, 0.9999986316407685, 0.9999988773201685, 0.9999989913349439, 0.9999991337676295, 0.9999991750079665, 0.9999991778398136]\n",
      "[0.010343810149994147, -0.05776016847924668, 0.04786404855890512, -0.026479971244793264, -0.004079916939744595, -0.0020226262623038575, 0.01048353232686053, 0.05097753417496179, 0.0006875013317778877, -0.00922755028334397, -0.012911274338829692, 0.029070326826021675, 0.023592297427155132, 0.019400085705146564, -0.06000269866084902, 0.1379785429273772, -0.025044900564569445, -0.02420139822157946, 0.037601926097255635, 0.09247243033939229, 0.07281422649442082, -0.09413965261622109, 0.11367862937175266, 0.0383525330351193, 0.0007357481032362856, -0.028557540969553284, 0.04734467081186417, 0.07035522941131583, 0.054413388381340654, 0.041458191003291296, 0.0975201171607808, 0.2162037760220778, 0.0993828758601915, 0.1423153664886993, 0.04551199670365091, -0.026937101319367024, -0.020089442764355047, 0.014253236065441308, -0.031049948667227566, 0.1461115064742904, 0.09037746496082895, 0.14646718424923774, 0.09939310363287526, 0.053970652091684855, 0.12687945571987644, 0.040544447619641454, 0.10166273032160113, 0.08650058839500419, 0.09320977657564368, 0.06628041141279897]\n"
     ]
    }
   ],
   "source": [
    "print(total_gbc_model)\n",
    "print(total_scores_model)"
   ]
  },
  {
   "cell_type": "code",
   "execution_count": 12,
   "metadata": {},
   "outputs": [
    {
     "name": "stdout",
     "output_type": "stream",
     "text": [
      "[0.         0.03061224 0.06122449 0.09183673 0.12244898 0.15306122\n",
      " 0.18367347 0.21428571 0.24489796 0.2755102  0.30612245 0.33673469\n",
      " 0.36734694 0.39795918 0.42857143 0.45918367 0.48979592 0.52040816\n",
      " 0.55102041 0.58163265 0.6122449  0.64285714 0.67346939 0.70408163\n",
      " 0.73469388 0.76530612 0.79591837 0.82653061 0.85714286 0.8877551\n",
      " 0.91836735 0.94897959 0.97959184 1.01020408 1.04081633 1.07142857\n",
      " 1.10204082 1.13265306 1.16326531 1.19387755 1.2244898  1.25510204\n",
      " 1.28571429 1.31632653 1.34693878 1.37755102 1.40816327 1.43877551\n",
      " 1.46938776 1.5       ]\n"
     ]
    }
   ],
   "source": [
    "print(input)"
   ]
  },
  {
   "cell_type": "code",
   "execution_count": 10,
   "metadata": {},
   "outputs": [
    {
     "data": {
      "image/png": "[encoded data removed]",
      "text/plain": [
       "<Figure size 432x288 with 1 Axes>"
      ]
     },
     "metadata": {
      "needs_background": "light"
     },
     "output_type": "display_data"
    }
   ],
   "source": [
    "plt.plot(input, total_gbc_model)\n",
    "plt.show()"
   ]
  },
  {
   "cell_type": "code",
   "execution_count": null,
   "metadata": {},
   "outputs": [],
   "source": []
  }
 ],
 "metadata": {
  "kernelspec": {
   "display_name": "Python 3 (ipykernel)",
   "language": "python",
   "name": "python3"
  },
  "language_info": {
   "codemirror_mode": {
    "name": "ipython",
    "version": 3
   },
   "file_extension": ".py",
   "mimetype": "text/x-python",
   "name": "python",
   "nbconvert_exporter": "python",
   "pygments_lexer": "ipython3",
   "version": "3.7.4"
  }
 },
 "nbformat": 4,
 "nbformat_minor": 4
}
